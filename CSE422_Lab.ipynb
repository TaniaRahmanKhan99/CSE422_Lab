{
  "nbformat": 4,
  "nbformat_minor": 0,
  "metadata": {
    "colab": {
      "provenance": []
    },
    "kernelspec": {
      "name": "python3",
      "display_name": "Python 3"
    },
    "language_info": {
      "name": "python"
    }
  },
  "cells": [
    {
      "cell_type": "code",
      "source": [
        "#     Task01\n",
        "\n",
        "import numpy as np\n",
        "def find(match, row3, col3, vd):\n",
        "\tglobal R, C\n",
        "\treturn ((row3 >= 0) and (row3 < R) and\n",
        "\t\t\t(col3 >= 0) and (col3 < C) and\n",
        "\t\t\t(match[row3][col3] and not vd[row3][col3]))\n",
        "\n",
        "def dfs(match, row1, col1, vd, count1):\n",
        "\trow2 = [-1, -1, -1, 0, 0, 1, 1, 1]\n",
        "\tcolumn2 = [-1, 0, 1, -1, 1, -1, 0, 1]\n",
        "\tvd[row1][col1] = 1\n",
        "\tfor k in range(8):\n",
        "\t\tif (find(match, row1 + row2[k],col1 + column2[k], vd)):\n",
        "\t\t\tcount1[0] += 1\n",
        "\t\t\tdfs(match, row1 + row2[k], col1 + column2[k], vd, count1)\n",
        "\n",
        "def MaximumRegion(match):\n",
        "\tglobal R, C\n",
        "\tvd = [[0] * C for i in range(R)]\n",
        "\tans = 0\n",
        "\tfor a in range(R):\n",
        "\t\tfor b in range(C):\n",
        "\t\t\tif (match[a][b] and not vd[a][b]):\n",
        "\t\t\t\tcount1 = [1]\n",
        "\t\t\t\tdfs(match, a, b, vd, count1)\n",
        "\t\t\t\tans = max(ans, count1[0])\n",
        "\treturn ans\n",
        "\n",
        "# main\n",
        "R = 6\n",
        "C = 7\n",
        "M = []\n",
        "\n",
        "DATA= [['N','N','N','Y','Y','N','N'],\n",
        "       ['N','Y','N','N','Y','Y','N'],\n",
        "       ['Y','Y','N','Y','N','N','Y'],\n",
        "       ['N','N','N','N','N','Y','N'],\n",
        "       ['Y','Y','N','N','N','N','N'],\n",
        "       ['N','N','N','Y','N','N','N']]\n",
        "\n",
        "d1= 'Y'\n",
        "d2 = 'N'\n",
        "match = DATA.copy()\n",
        "#print(match)\n",
        "for i in range(R):\n",
        "    for j in range(C):\n",
        "      if match[i][j] == 'Y':\n",
        "        match[i][j] = 1\n",
        "      else:\n",
        "        match[i][j] = 0\n",
        "print(MaximumRegion(match))\n"
      ],
      "metadata": {
        "id": "0ySXDZdFOgxW",
        "colab": {
          "base_uri": "https://localhost:8080/"
        },
        "outputId": "10a2f381-ace8-4f78-d140-8dc36c049d51"
      },
      "execution_count": null,
      "outputs": [
        {
          "output_type": "stream",
          "name": "stdout",
          "text": [
            "7\n"
          ]
        }
      ]
    },
    {
      "cell_type": "code",
      "source": [
        "##    Task02\n",
        "\n",
        "def bfs(a, b, matrix, time):\n",
        "\tmatrix[a][b] = 0\n",
        "\tstack = []\n",
        "\trow1 = [-1, 0, 0, 1]\n",
        "\tcol1 = [0, -1, 1, 0]\n",
        "\n",
        "\tfor k1 in range(4):\n",
        "\t\trowx = a+row1[k1]\n",
        "\t\tcoly = b+col1[k1]\n",
        "\n",
        "\t\tif rowx >= 0 and rowx < r1 and coly >= 0 and coly < c1 and matrix[rowx][coly] == 'H':\n",
        "\t\t\tmatrix[rowx][coly] = 'A'\n",
        "\t\t\tstack.append((rowx, coly))\n",
        "\n",
        "\t\t\ttime[rowx][coly] = time[a][b]+1\n",
        "\n",
        "\treturn stack\n",
        "\n",
        "def totalTime(db):\n",
        "\n",
        "\ttime_count = [[0 for i in range(c1)] for j in range(r1)]\n",
        "\tqueue = []\n",
        "\n",
        "\tfor c in range(r1):\n",
        "\t\tfor d in range(c1):\n",
        "\t\t\tif db[c][d] == 'A':\n",
        "\t\t\t\tqueue += bfs(c, d, db, time_count)\n",
        "\n",
        "\twhile(len(queue) != 0):\n",
        "\t\tfor u, v in queue:\n",
        "\t\t\tvalue = bfs(u, v, db, time_count)\n",
        "\t\tqueue = value\n",
        "\n",
        "\tresult2 = 0\n",
        "\tfor s in range(r1):\n",
        "\t\tfor t in range(c1):\n",
        "\t\t\tif db[s][t] == 'H':\n",
        "\t\t\t\treturn -1\n",
        "\t\t\tresult2 = max(result2, time_count[s][t])\n",
        "\n",
        "\treturn result2\n",
        "\n",
        "#main\n",
        "db = [['A', 'H', 'T', 'H'],\n",
        "      ['H', 'H', 'T', 'A'],\n",
        "\t\t\t['T', 'T', 'H', 'H'],\n",
        "\t    ['A', 'H', 'T', 'H'],\n",
        "      ['H', 'T', 'H', 'H']]\n",
        "r1 = len(db)\n",
        "c1 = len(db[0])\n",
        "print('Time:',totalTime(db),'minutes')\n",
        "s = 'H'\n",
        "if any(s in sublist for sublist in db) == True:\n",
        "  count = db.count('H')\n",
        "  print(count,'survived')\n",
        "else:\n",
        "  print('No one survived')\n",
        "\n"
      ],
      "metadata": {
        "id": "1SeaaDLDQvMj",
        "colab": {
          "base_uri": "https://localhost:8080/"
        },
        "outputId": "bd61fef5-8781-4ef1-ca54-e7f162294e76"
      },
      "execution_count": null,
      "outputs": [
        {
          "output_type": "stream",
          "name": "stdout",
          "text": [
            "Time: 4 minutes\n",
            "No one survived\n"
          ]
        }
      ]
    },
    {
      "cell_type": "code",
      "source": [],
      "metadata": {
        "id": "WulHNc_7udAJ"
      },
      "execution_count": null,
      "outputs": []
    }
  ]
}